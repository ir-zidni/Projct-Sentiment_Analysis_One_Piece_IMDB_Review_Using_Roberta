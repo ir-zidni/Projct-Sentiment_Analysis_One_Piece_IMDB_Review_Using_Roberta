{
 "cells": [
  {
   "cell_type": "code",
   "execution_count": 1,
   "metadata": {},
   "outputs": [],
   "source": [
    "import pandas as pd\n",
    "import nltk\n",
    "import numpy as np\n",
    "import matplotlib.pyplot as plt\n",
    "import seaborn as sns\n",
    "\n",
    "plt.style.use('ggplot')"
   ]
  },
  {
   "cell_type": "markdown",
   "metadata": {},
   "source": [
    "# SENTIMENT ANALYSIS"
   ]
  },
  {
   "cell_type": "markdown",
   "metadata": {},
   "source": [
    "Sentiment analysis is the process of analyzing digital text to determine if the emotional tone of the message is positive, negative, or neutral. Today, companies have large volumes of text data like emails, customer support chat transcripts, social media comments, and reviews. [Source](https://aws.amazon.com/what-is/sentiment-analysis/#:~:text=Sentiment%20analysis%20is%20the%20process,social%20media%20comments%2C%20and%20reviews.)\n",
    "\n",
    "In this notebook, I will do sentiment analysis on One Piece Live Action IMDB Reviews. Using two sentiment analysis modules, Vader and Roberta."
   ]
  },
  {
   "cell_type": "markdown",
   "metadata": {},
   "source": [
    "## 1.Read data"
   ]
  },
  {
   "cell_type": "code",
   "execution_count": 2,
   "metadata": {},
   "outputs": [
    {
     "data": {
      "text/html": [
       "<div>\n",
       "<style scoped>\n",
       "    .dataframe tbody tr th:only-of-type {\n",
       "        vertical-align: middle;\n",
       "    }\n",
       "\n",
       "    .dataframe tbody tr th {\n",
       "        vertical-align: top;\n",
       "    }\n",
       "\n",
       "    .dataframe thead th {\n",
       "        text-align: right;\n",
       "    }\n",
       "</style>\n",
       "<table border=\"1\" class=\"dataframe\">\n",
       "  <thead>\n",
       "    <tr style=\"text-align: right;\">\n",
       "      <th></th>\n",
       "      <th>Title</th>\n",
       "      <th>Review</th>\n",
       "      <th>Date</th>\n",
       "      <th>Rating</th>\n",
       "      <th>id</th>\n",
       "    </tr>\n",
       "  </thead>\n",
       "  <tbody>\n",
       "    <tr>\n",
       "      <th>0</th>\n",
       "      <td>Never seen the anime and still enjoyed it</td>\n",
       "      <td>I have to admit that I've never watched any of...</td>\n",
       "      <td>4 September 2023</td>\n",
       "      <td>8.0</td>\n",
       "      <td>0</td>\n",
       "    </tr>\n",
       "    <tr>\n",
       "      <th>1</th>\n",
       "      <td>Not My Kind of Show. But This I Loved.</td>\n",
       "      <td>I'm a 60yo man &amp; old school like the The Marin...</td>\n",
       "      <td>4 September 2023</td>\n",
       "      <td>9.0</td>\n",
       "      <td>1</td>\n",
       "    </tr>\n",
       "    <tr>\n",
       "      <th>2</th>\n",
       "      <td>I'm Shocked By How Good This Is...</td>\n",
       "      <td>Every live action anime that I've briefly seen...</td>\n",
       "      <td>1 September 2023</td>\n",
       "      <td>9.0</td>\n",
       "      <td>2</td>\n",
       "    </tr>\n",
       "    <tr>\n",
       "      <th>3</th>\n",
       "      <td>See Netflix?? You CAN do it...</td>\n",
       "      <td>This is bar none one of the best live-action a...</td>\n",
       "      <td>4 September 2023</td>\n",
       "      <td>10.0</td>\n",
       "      <td>3</td>\n",
       "    </tr>\n",
       "    <tr>\n",
       "      <th>4</th>\n",
       "      <td>WE WANT SEASON 2</td>\n",
       "      <td>Being a one piece fan myself, I was a bit inse...</td>\n",
       "      <td>31 August 2023</td>\n",
       "      <td>10.0</td>\n",
       "      <td>4</td>\n",
       "    </tr>\n",
       "  </tbody>\n",
       "</table>\n",
       "</div>"
      ],
      "text/plain": [
       "                                       Title  \\\n",
       "0  Never seen the anime and still enjoyed it   \n",
       "1     Not My Kind of Show. But This I Loved.   \n",
       "2         I'm Shocked By How Good This Is...   \n",
       "3             See Netflix?? You CAN do it...   \n",
       "4                           WE WANT SEASON 2   \n",
       "\n",
       "                                              Review              Date  \\\n",
       "0  I have to admit that I've never watched any of...  4 September 2023   \n",
       "1  I'm a 60yo man & old school like the The Marin...  4 September 2023   \n",
       "2  Every live action anime that I've briefly seen...  1 September 2023   \n",
       "3  This is bar none one of the best live-action a...  4 September 2023   \n",
       "4  Being a one piece fan myself, I was a bit inse...    31 August 2023   \n",
       "\n",
       "   Rating  id  \n",
       "0     8.0   0  \n",
       "1     9.0   1  \n",
       "2     9.0   2  \n",
       "3    10.0   3  \n",
       "4    10.0   4  "
      ]
     },
     "execution_count": 2,
     "metadata": {},
     "output_type": "execute_result"
    }
   ],
   "source": [
    "df = pd.read_csv(r'D:\\Dokumen\\Hobi\\Dataset\\One Piece Review Dataset\\reviews.csv')\n",
    "\n",
    "# create id columns\n",
    "df['id'] = df.index\n",
    "df.head()"
   ]
  },
  {
   "cell_type": "markdown",
   "metadata": {},
   "source": [
    "This dataset contains user reviews and associated information for the live-action adaptation of the popular anime and manga series, \"One Piece,\" as posted on the Internet Movie Database (IMDb). The live-action adaptation has generated significant attention and discussion among fans and critics alike. This dataset offers valuable insights into the reception and opinions of viewers regarding this adaptation. The reviews are till the Date 10 October 2023."
   ]
  },
  {
   "cell_type": "markdown",
   "metadata": {},
   "source": [
    "## 2.EDA"
   ]
  },
  {
   "cell_type": "code",
   "execution_count": 3,
   "metadata": {},
   "outputs": [
    {
     "data": {
      "text/plain": [
       "8.52"
      ]
     },
     "execution_count": 3,
     "metadata": {},
     "output_type": "execute_result"
    }
   ],
   "source": [
    "avg_rating = round(df['Rating'].mean(),2)\n",
    "avg_rating"
   ]
  },
  {
   "cell_type": "code",
   "execution_count": 4,
   "metadata": {},
   "outputs": [
    {
     "data": {
      "image/png": "[encoded data removed]",
      "text/plain": [
       "<Figure size 1000x500 with 1 Axes>"
      ]
     },
     "metadata": {},
     "output_type": "display_data"
    }
   ],
   "source": [
    "# Counts of review by rating\n",
    "labels = [1,2,3,4,5,6,7,8,9,10]\n",
    "ax = df['Rating'].value_counts().sort_index() \\\n",
    "    .plot(kind='bar', title='Count of reviews by rating', figsize=(10,5))\n",
    "ax.set_xlabel('Review Ratings')\n",
    "ax.set_xticks([0,1,2,3,4,5,6,7,8,9], labels, rotation=0, ha='right')\n",
    "\n",
    "plt.show()"
   ]
  },
  {
   "cell_type": "markdown",
   "metadata": {},
   "source": [
    "Overall review for One Piece Live Action is positive. Mostly people give the show rating of 10, with mean 8.52."
   ]
  },
  {
   "cell_type": "markdown",
   "metadata": {},
   "source": [
    "## 3.Sentiment Analysis"
   ]
  },
  {
   "cell_type": "markdown",
   "metadata": {},
   "source": [
    "### NLTK - VADER"
   ]
  },
  {
   "cell_type": "markdown",
   "metadata": {},
   "source": [
    "VADER (Valence Aware Dictionary for Sentiment Reasoning) is an NLTK module that provides sentiment scores based on the words used."
   ]
  },
  {
   "cell_type": "code",
   "execution_count": 5,
   "metadata": {},
   "outputs": [],
   "source": [
    "from nltk.sentiment import  SentimentIntensityAnalyzer\n",
    "from tqdm import tqdm\n",
    "\n",
    "sia = SentimentIntensityAnalyzer()"
   ]
  },
  {
   "cell_type": "code",
   "execution_count": 6,
   "metadata": {},
   "outputs": [
    {
     "data": {
      "text/plain": [
       "'While the live action adaptation of One Piece does not shy away from taking creative liberties, by removing or changing plot points, it still perfectly captures the essence and tone of the original story. The world is sufficiently strange and intriguing, and the special effects, mostly, do not feel out of place or distracting. A 90% score might seem a bit too high when compared to other well received shows, like Breaking Bad or the first few seasons of Game of Thrones, but rating OPLA for what it is: an adaptation of the One Piece manga, I can think of very few concrete changes to improve it, so by that metric it is indeed almost perfect.'"
      ]
     },
     "execution_count": 6,
     "metadata": {},
     "output_type": "execute_result"
    }
   ],
   "source": [
    "example = df['Review'][42]\n",
    "example"
   ]
  },
  {
   "cell_type": "code",
   "execution_count": 7,
   "metadata": {},
   "outputs": [
    {
     "data": {
      "text/plain": [
       "{'neg': 0.041, 'neu': 0.778, 'pos': 0.181, 'compound': 0.944}"
      ]
     },
     "execution_count": 7,
     "metadata": {},
     "output_type": "execute_result"
    }
   ],
   "source": [
    "sia.polarity_scores(example)"
   ]
  },
  {
   "cell_type": "code",
   "execution_count": 8,
   "metadata": {},
   "outputs": [
    {
     "name": "stderr",
     "output_type": "stream",
     "text": [
      "100%|██████████| 878/878 [00:01<00:00, 474.28it/s]\n"
     ]
    }
   ],
   "source": [
    "result = {}\n",
    "\n",
    "for i, row in tqdm(df.iterrows(), total=len(df)):\n",
    "    text = row['Review']\n",
    "    myId = row['id']\n",
    "    result[myId] = sia.polarity_scores(text)"
   ]
  },
  {
   "cell_type": "code",
   "execution_count": 9,
   "metadata": {},
   "outputs": [
    {
     "data": {
      "text/html": [
       "<div>\n",
       "<style scoped>\n",
       "    .dataframe tbody tr th:only-of-type {\n",
       "        vertical-align: middle;\n",
       "    }\n",
       "\n",
       "    .dataframe tbody tr th {\n",
       "        vertical-align: top;\n",
       "    }\n",
       "\n",
       "    .dataframe thead th {\n",
       "        text-align: right;\n",
       "    }\n",
       "</style>\n",
       "<table border=\"1\" class=\"dataframe\">\n",
       "  <thead>\n",
       "    <tr style=\"text-align: right;\">\n",
       "      <th></th>\n",
       "      <th>id</th>\n",
       "      <th>neg</th>\n",
       "      <th>neu</th>\n",
       "      <th>pos</th>\n",
       "      <th>compound</th>\n",
       "      <th>Title</th>\n",
       "      <th>Review</th>\n",
       "      <th>Date</th>\n",
       "      <th>Rating</th>\n",
       "    </tr>\n",
       "  </thead>\n",
       "  <tbody>\n",
       "    <tr>\n",
       "      <th>0</th>\n",
       "      <td>0</td>\n",
       "      <td>0.062</td>\n",
       "      <td>0.758</td>\n",
       "      <td>0.181</td>\n",
       "      <td>0.9204</td>\n",
       "      <td>Never seen the anime and still enjoyed it</td>\n",
       "      <td>I have to admit that I've never watched any of...</td>\n",
       "      <td>4 September 2023</td>\n",
       "      <td>8.0</td>\n",
       "    </tr>\n",
       "    <tr>\n",
       "      <th>1</th>\n",
       "      <td>1</td>\n",
       "      <td>0.117</td>\n",
       "      <td>0.568</td>\n",
       "      <td>0.315</td>\n",
       "      <td>0.9935</td>\n",
       "      <td>Not My Kind of Show. But This I Loved.</td>\n",
       "      <td>I'm a 60yo man &amp; old school like the The Marin...</td>\n",
       "      <td>4 September 2023</td>\n",
       "      <td>9.0</td>\n",
       "    </tr>\n",
       "    <tr>\n",
       "      <th>2</th>\n",
       "      <td>2</td>\n",
       "      <td>0.111</td>\n",
       "      <td>0.693</td>\n",
       "      <td>0.197</td>\n",
       "      <td>0.9888</td>\n",
       "      <td>I'm Shocked By How Good This Is...</td>\n",
       "      <td>Every live action anime that I've briefly seen...</td>\n",
       "      <td>1 September 2023</td>\n",
       "      <td>9.0</td>\n",
       "    </tr>\n",
       "    <tr>\n",
       "      <th>3</th>\n",
       "      <td>3</td>\n",
       "      <td>0.066</td>\n",
       "      <td>0.789</td>\n",
       "      <td>0.145</td>\n",
       "      <td>0.9814</td>\n",
       "      <td>See Netflix?? You CAN do it...</td>\n",
       "      <td>This is bar none one of the best live-action a...</td>\n",
       "      <td>4 September 2023</td>\n",
       "      <td>10.0</td>\n",
       "    </tr>\n",
       "    <tr>\n",
       "      <th>4</th>\n",
       "      <td>4</td>\n",
       "      <td>0.042</td>\n",
       "      <td>0.704</td>\n",
       "      <td>0.254</td>\n",
       "      <td>0.9824</td>\n",
       "      <td>WE WANT SEASON 2</td>\n",
       "      <td>Being a one piece fan myself, I was a bit inse...</td>\n",
       "      <td>31 August 2023</td>\n",
       "      <td>10.0</td>\n",
       "    </tr>\n",
       "  </tbody>\n",
       "</table>\n",
       "</div>"
      ],
      "text/plain": [
       "   id    neg    neu    pos  compound  \\\n",
       "0   0  0.062  0.758  0.181    0.9204   \n",
       "1   1  0.117  0.568  0.315    0.9935   \n",
       "2   2  0.111  0.693  0.197    0.9888   \n",
       "3   3  0.066  0.789  0.145    0.9814   \n",
       "4   4  0.042  0.704  0.254    0.9824   \n",
       "\n",
       "                                       Title  \\\n",
       "0  Never seen the anime and still enjoyed it   \n",
       "1     Not My Kind of Show. But This I Loved.   \n",
       "2         I'm Shocked By How Good This Is...   \n",
       "3             See Netflix?? You CAN do it...   \n",
       "4                           WE WANT SEASON 2   \n",
       "\n",
       "                                              Review              Date  Rating  \n",
       "0  I have to admit that I've never watched any of...  4 September 2023     8.0  \n",
       "1  I'm a 60yo man & old school like the The Marin...  4 September 2023     9.0  \n",
       "2  Every live action anime that I've briefly seen...  1 September 2023     9.0  \n",
       "3  This is bar none one of the best live-action a...  4 September 2023    10.0  \n",
       "4  Being a one piece fan myself, I was a bit inse...    31 August 2023    10.0  "
      ]
     },
     "execution_count": 9,
     "metadata": {},
     "output_type": "execute_result"
    }
   ],
   "source": [
    "vader_result = pd.DataFrame(result).T\n",
    "vader_result = vader_result.reset_index().rename(columns={'index':'id'})\n",
    "vader_result = vader_result.merge(df, how='left')\n",
    "vader_result.head()"
   ]
  },
  {
   "cell_type": "markdown",
   "metadata": {},
   "source": [
    "#### Vader EDA"
   ]
  },
  {
   "cell_type": "code",
   "execution_count": 10,
   "metadata": {},
   "outputs": [
    {
     "data": {
      "image/png": "[encoded data removed]",
      "text/plain": [
       "<Figure size 2100x700 with 3 Axes>"
      ]
     },
     "metadata": {},
     "output_type": "display_data"
    }
   ],
   "source": [
    "fig, axs = plt.subplots(1,3, figsize=(21,7))\n",
    "sns.barplot(data=vader_result, x='Rating', y='neg', ax = axs[0])\n",
    "sns.barplot(data=vader_result, x='Rating', y='neu', ax = axs[1])\n",
    "sns.barplot(data=vader_result, x='Rating', y='pos', ax = axs[2])\n",
    "axs[0].set_title('Negative')\n",
    "axs[1].set_title('Neutral')\n",
    "axs[2].set_title('Poisitve')\n",
    "axs[0].set_ylim(0,1)\n",
    "axs[1].set_ylim(0,1)\n",
    "axs[2].set_ylim(0,1)\n",
    "plt.tight_layout()\n",
    "plt.show()"
   ]
  },
  {
   "cell_type": "code",
   "execution_count": 11,
   "metadata": {},
   "outputs": [
    {
     "data": {
      "image/png": "[encoded data removed]",
      "text/plain": [
       "<Figure size 640x480 with 1 Axes>"
      ]
     },
     "metadata": {},
     "output_type": "display_data"
    }
   ],
   "source": [
    "sns.scatterplot(data=vader_result, x='Rating', y='compound').set(title='Compound Score Distribution by Rating')\n",
    "\n",
    "plt.show()"
   ]
  },
  {
   "cell_type": "markdown",
   "metadata": {},
   "source": [
    "By using VADER some high rating review have negative compound sentiment score and vice versa. And from the barplot Vader mostly give the review neutral sentiment."
   ]
  },
  {
   "cell_type": "code",
   "execution_count": 12,
   "metadata": {},
   "outputs": [
    {
     "data": {
      "text/html": [
       "<div>\n",
       "<style scoped>\n",
       "    .dataframe tbody tr th:only-of-type {\n",
       "        vertical-align: middle;\n",
       "    }\n",
       "\n",
       "    .dataframe tbody tr th {\n",
       "        vertical-align: top;\n",
       "    }\n",
       "\n",
       "    .dataframe thead th {\n",
       "        text-align: right;\n",
       "    }\n",
       "</style>\n",
       "<table border=\"1\" class=\"dataframe\">\n",
       "  <thead>\n",
       "    <tr style=\"text-align: right;\">\n",
       "      <th></th>\n",
       "      <th>index</th>\n",
       "      <th>id</th>\n",
       "      <th>neg</th>\n",
       "      <th>neu</th>\n",
       "      <th>pos</th>\n",
       "      <th>compound</th>\n",
       "      <th>Rating</th>\n",
       "      <th>Review</th>\n",
       "    </tr>\n",
       "  </thead>\n",
       "  <tbody>\n",
       "    <tr>\n",
       "      <th>0</th>\n",
       "      <td>340</td>\n",
       "      <td>340</td>\n",
       "      <td>0.097</td>\n",
       "      <td>0.837</td>\n",
       "      <td>0.066</td>\n",
       "      <td>-0.6908</td>\n",
       "      <td>10.0</td>\n",
       "      <td>This show is amazing I watched the Anime but t...</td>\n",
       "    </tr>\n",
       "    <tr>\n",
       "      <th>1</th>\n",
       "      <td>356</td>\n",
       "      <td>356</td>\n",
       "      <td>0.159</td>\n",
       "      <td>0.718</td>\n",
       "      <td>0.122</td>\n",
       "      <td>-0.8771</td>\n",
       "      <td>10.0</td>\n",
       "      <td>It's not the best part of one piece. Not even ...</td>\n",
       "    </tr>\n",
       "    <tr>\n",
       "      <th>2</th>\n",
       "      <td>504</td>\n",
       "      <td>504</td>\n",
       "      <td>0.200</td>\n",
       "      <td>0.725</td>\n",
       "      <td>0.075</td>\n",
       "      <td>-0.9434</td>\n",
       "      <td>10.0</td>\n",
       "      <td>Reading your review annoyed me so much that I ...</td>\n",
       "    </tr>\n",
       "    <tr>\n",
       "      <th>3</th>\n",
       "      <td>539</td>\n",
       "      <td>539</td>\n",
       "      <td>0.076</td>\n",
       "      <td>0.853</td>\n",
       "      <td>0.071</td>\n",
       "      <td>-0.1607</td>\n",
       "      <td>10.0</td>\n",
       "      <td>Omg where do I start I am a fan of manga but n...</td>\n",
       "    </tr>\n",
       "    <tr>\n",
       "      <th>4</th>\n",
       "      <td>588</td>\n",
       "      <td>588</td>\n",
       "      <td>0.066</td>\n",
       "      <td>0.891</td>\n",
       "      <td>0.043</td>\n",
       "      <td>-0.4708</td>\n",
       "      <td>10.0</td>\n",
       "      <td>What the actual heck. They did the impossible,...</td>\n",
       "    </tr>\n",
       "    <tr>\n",
       "      <th>5</th>\n",
       "      <td>659</td>\n",
       "      <td>659</td>\n",
       "      <td>0.137</td>\n",
       "      <td>0.743</td>\n",
       "      <td>0.120</td>\n",
       "      <td>-0.5434</td>\n",
       "      <td>10.0</td>\n",
       "      <td>I have never written a review for anything on ...</td>\n",
       "    </tr>\n",
       "  </tbody>\n",
       "</table>\n",
       "</div>"
      ],
      "text/plain": [
       "   index   id    neg    neu    pos  compound  Rating  \\\n",
       "0    340  340  0.097  0.837  0.066   -0.6908    10.0   \n",
       "1    356  356  0.159  0.718  0.122   -0.8771    10.0   \n",
       "2    504  504  0.200  0.725  0.075   -0.9434    10.0   \n",
       "3    539  539  0.076  0.853  0.071   -0.1607    10.0   \n",
       "4    588  588  0.066  0.891  0.043   -0.4708    10.0   \n",
       "5    659  659  0.137  0.743  0.120   -0.5434    10.0   \n",
       "\n",
       "                                              Review  \n",
       "0  This show is amazing I watched the Anime but t...  \n",
       "1  It's not the best part of one piece. Not even ...  \n",
       "2  Reading your review annoyed me so much that I ...  \n",
       "3  Omg where do I start I am a fan of manga but n...  \n",
       "4  What the actual heck. They did the impossible,...  \n",
       "5  I have never written a review for anything on ...  "
      ]
     },
     "execution_count": 12,
     "metadata": {},
     "output_type": "execute_result"
    }
   ],
   "source": [
    "rating10_negcomp = vader_result[['id', 'neg','neu','pos','compound', 'Rating', 'Review']].loc[(vader_result.Rating == 10)&(vader_result.compound < 0)].reset_index()\n",
    "rating10_negcomp"
   ]
  },
  {
   "cell_type": "code",
   "execution_count": 13,
   "metadata": {},
   "outputs": [
    {
     "data": {
      "text/plain": [
       "\"Omg where do I start I am a fan of manga but not a big one had some clue about this but not much and do boy this one is a piece of work what I afraid was that whenever a manga is brought to live adaptation it's always a mess but not in this case I was blown away by writing the action the sets the story the characters and overall package I thought I had nothing to watch let's give this a try and o boy I binged thru all without getting out of bed and believe me try this and see for yourself and I must say I am a regular fan of tv shows movies and pretty much seen everything so I'm not impressed easily 10/10.\""
      ]
     },
     "execution_count": 13,
     "metadata": {},
     "output_type": "execute_result"
    }
   ],
   "source": [
    "rating10_negcomp['Review'][3]"
   ]
  },
  {
   "cell_type": "code",
   "execution_count": 14,
   "metadata": {},
   "outputs": [
    {
     "data": {
      "text/html": [
       "<div>\n",
       "<style scoped>\n",
       "    .dataframe tbody tr th:only-of-type {\n",
       "        vertical-align: middle;\n",
       "    }\n",
       "\n",
       "    .dataframe tbody tr th {\n",
       "        vertical-align: top;\n",
       "    }\n",
       "\n",
       "    .dataframe thead th {\n",
       "        text-align: right;\n",
       "    }\n",
       "</style>\n",
       "<table border=\"1\" class=\"dataframe\">\n",
       "  <thead>\n",
       "    <tr style=\"text-align: right;\">\n",
       "      <th></th>\n",
       "      <th>index</th>\n",
       "      <th>id</th>\n",
       "      <th>neg</th>\n",
       "      <th>neu</th>\n",
       "      <th>pos</th>\n",
       "      <th>compound</th>\n",
       "      <th>Rating</th>\n",
       "      <th>Review</th>\n",
       "    </tr>\n",
       "  </thead>\n",
       "  <tbody>\n",
       "    <tr>\n",
       "      <th>0</th>\n",
       "      <td>152</td>\n",
       "      <td>152</td>\n",
       "      <td>0.059</td>\n",
       "      <td>0.798</td>\n",
       "      <td>0.143</td>\n",
       "      <td>0.9506</td>\n",
       "      <td>1.0</td>\n",
       "      <td>Corny, boring, the actors don't care about the...</td>\n",
       "    </tr>\n",
       "    <tr>\n",
       "      <th>1</th>\n",
       "      <td>266</td>\n",
       "      <td>266</td>\n",
       "      <td>0.069</td>\n",
       "      <td>0.797</td>\n",
       "      <td>0.133</td>\n",
       "      <td>0.9537</td>\n",
       "      <td>1.0</td>\n",
       "      <td>The technical quality of this show is simply u...</td>\n",
       "    </tr>\n",
       "    <tr>\n",
       "      <th>2</th>\n",
       "      <td>269</td>\n",
       "      <td>269</td>\n",
       "      <td>0.054</td>\n",
       "      <td>0.806</td>\n",
       "      <td>0.140</td>\n",
       "      <td>0.9020</td>\n",
       "      <td>1.0</td>\n",
       "      <td>The Netflix live adaptation of \"One Piece\" fee...</td>\n",
       "    </tr>\n",
       "    <tr>\n",
       "      <th>3</th>\n",
       "      <td>297</td>\n",
       "      <td>297</td>\n",
       "      <td>0.085</td>\n",
       "      <td>0.722</td>\n",
       "      <td>0.193</td>\n",
       "      <td>0.8955</td>\n",
       "      <td>1.0</td>\n",
       "      <td>I don't know where to begin... This was a very...</td>\n",
       "    </tr>\n",
       "    <tr>\n",
       "      <th>4</th>\n",
       "      <td>299</td>\n",
       "      <td>299</td>\n",
       "      <td>0.108</td>\n",
       "      <td>0.767</td>\n",
       "      <td>0.125</td>\n",
       "      <td>0.3621</td>\n",
       "      <td>1.0</td>\n",
       "      <td>I've never watched the anime series by the sam...</td>\n",
       "    </tr>\n",
       "  </tbody>\n",
       "</table>\n",
       "</div>"
      ],
      "text/plain": [
       "   index   id    neg    neu    pos  compound  Rating  \\\n",
       "0    152  152  0.059  0.798  0.143    0.9506     1.0   \n",
       "1    266  266  0.069  0.797  0.133    0.9537     1.0   \n",
       "2    269  269  0.054  0.806  0.140    0.9020     1.0   \n",
       "3    297  297  0.085  0.722  0.193    0.8955     1.0   \n",
       "4    299  299  0.108  0.767  0.125    0.3621     1.0   \n",
       "\n",
       "                                              Review  \n",
       "0  Corny, boring, the actors don't care about the...  \n",
       "1  The technical quality of this show is simply u...  \n",
       "2  The Netflix live adaptation of \"One Piece\" fee...  \n",
       "3  I don't know where to begin... This was a very...  \n",
       "4  I've never watched the anime series by the sam...  "
      ]
     },
     "execution_count": 14,
     "metadata": {},
     "output_type": "execute_result"
    }
   ],
   "source": [
    "rating1_poscomp = vader_result[['id','neg','neu','pos','compound', 'Rating', 'Review']].loc[(vader_result.Rating == 1)&(vader_result.compound > 0)].reset_index()\n",
    "rating1_poscomp.head()"
   ]
  },
  {
   "cell_type": "code",
   "execution_count": 217,
   "metadata": {},
   "outputs": [
    {
     "data": {
      "text/plain": [
       "'Corny, boring, the actors don\\'t care about their parts, or show any real interest in the show itself. I saw the first episode and after a while I started seeing the same thing over and over again, just the way the actors liked to pose for the camera, then depend on the special effects to make the show popular. Not to mention the way the characters look like they\\'re cosplaying in their backyard and hosting a kid\\'s show or something like \"bear in the big blue house\" especially when it comes to arlong. Believe me I don\\'t know HOW this got so popular, or so much hype, but if you call it \"bad\" you\\'re labeled the bad guy? I don\\'t know, all I can say is EVEN Luffy doesn\\'t punch like a girl with her thumbs up, and the way you can easily see the suspension strings on that actors should also tell you what to say about your \"special effects\" also, if you\\'re praising THIS as a good LIVE action, then stop being so hard on the past live actions, because at least those guys tried, I mean c\\'mon, glue on hair, mustache, and foam swords, and then make arlong as short as Luffy?'"
      ]
     },
     "execution_count": 217,
     "metadata": {},
     "output_type": "execute_result"
    }
   ],
   "source": [
    "rating1_poscomp.Review[0]"
   ]
  },
  {
   "cell_type": "markdown",
   "metadata": {},
   "source": [
    "### RoBERTa"
   ]
  },
  {
   "cell_type": "code",
   "execution_count": 218,
   "metadata": {},
   "outputs": [],
   "source": [
    "from transformers import AutoTokenizer\n",
    "from transformers import AutoModelForSequenceClassification\n",
    "from scipy.special import softmax"
   ]
  },
  {
   "cell_type": "code",
   "execution_count": 219,
   "metadata": {},
   "outputs": [],
   "source": [
    "from transformers import pipeline"
   ]
  },
  {
   "cell_type": "code",
   "execution_count": 220,
   "metadata": {},
   "outputs": [],
   "source": [
    "MODEL = f\"cardiffnlp/twitter-roberta-base-sentiment\"    \n",
    "tokenizer = AutoTokenizer.from_pretrained(MODEL)\n",
    "model = AutoModelForSequenceClassification.from_pretrained(MODEL)\n",
    "\n",
    "sent_pipeline = pipeline('sentiment-analysis', model=model, tokenizer=tokenizer, max_length=512, truncation=True)"
   ]
  },
  {
   "cell_type": "code",
   "execution_count": 221,
   "metadata": {},
   "outputs": [],
   "source": [
    "def sent_roberta_pipeline(text):\n",
    "    sent = sent_pipeline(text)\n",
    "    sent_dict = {\n",
    "    'label' : sent[0]['label'],\n",
    "    'score' : sent[0]['score']\n",
    "    }\n",
    "    return sent_dict"
   ]
  },
  {
   "cell_type": "code",
   "execution_count": 222,
   "metadata": {},
   "outputs": [
    {
     "name": "stderr",
     "output_type": "stream",
     "text": [
      "100%|██████████| 878/878 [08:38<00:00,  1.69it/s]\n"
     ]
    }
   ],
   "source": [
    "res = {}\n",
    "\n",
    "for i, row in tqdm(df.iterrows(), total=len(df)):\n",
    "    try:\n",
    "        text = row['Review']\n",
    "        myId = row['id']\n",
    "        res[myId] = sent_roberta_pipeline(text)\n",
    "    except RuntimeError :\n",
    "        print(f'Broker for id {myId}')"
   ]
  },
  {
   "cell_type": "code",
   "execution_count": 223,
   "metadata": {},
   "outputs": [
    {
     "name": "stderr",
     "output_type": "stream",
     "text": [
      "100%|██████████| 878/878 [00:00<00:00, 14136.55it/s]\n"
     ]
    }
   ],
   "source": [
    "roberta_result = pd.DataFrame(res).T\n",
    "labels = []\n",
    "\n",
    "for i, row in tqdm(roberta_result.iterrows(), total=len(roberta_result)):\n",
    "    if row['label'] == 'LABEL_0' :\n",
    "        labels.append('negative')\n",
    "    elif row['label'] == 'LABEL_2' :\n",
    "        labels.append('positive')\n",
    "    else :\n",
    "        labels.append('neutral')"
   ]
  },
  {
   "cell_type": "code",
   "execution_count": 224,
   "metadata": {},
   "outputs": [
    {
     "data": {
      "text/html": [
       "<div>\n",
       "<style scoped>\n",
       "    .dataframe tbody tr th:only-of-type {\n",
       "        vertical-align: middle;\n",
       "    }\n",
       "\n",
       "    .dataframe tbody tr th {\n",
       "        vertical-align: top;\n",
       "    }\n",
       "\n",
       "    .dataframe thead th {\n",
       "        text-align: right;\n",
       "    }\n",
       "</style>\n",
       "<table border=\"1\" class=\"dataframe\">\n",
       "  <thead>\n",
       "    <tr style=\"text-align: right;\">\n",
       "      <th></th>\n",
       "      <th>id</th>\n",
       "      <th>roberta_label</th>\n",
       "      <th>roberta_score</th>\n",
       "    </tr>\n",
       "  </thead>\n",
       "  <tbody>\n",
       "    <tr>\n",
       "      <th>0</th>\n",
       "      <td>0</td>\n",
       "      <td>positive</td>\n",
       "      <td>0.800233</td>\n",
       "    </tr>\n",
       "    <tr>\n",
       "      <th>1</th>\n",
       "      <td>1</td>\n",
       "      <td>positive</td>\n",
       "      <td>0.948476</td>\n",
       "    </tr>\n",
       "    <tr>\n",
       "      <th>2</th>\n",
       "      <td>2</td>\n",
       "      <td>positive</td>\n",
       "      <td>0.665432</td>\n",
       "    </tr>\n",
       "    <tr>\n",
       "      <th>3</th>\n",
       "      <td>3</td>\n",
       "      <td>positive</td>\n",
       "      <td>0.483159</td>\n",
       "    </tr>\n",
       "    <tr>\n",
       "      <th>4</th>\n",
       "      <td>4</td>\n",
       "      <td>positive</td>\n",
       "      <td>0.982298</td>\n",
       "    </tr>\n",
       "  </tbody>\n",
       "</table>\n",
       "</div>"
      ],
      "text/plain": [
       "   id roberta_label roberta_score\n",
       "0   0      positive      0.800233\n",
       "1   1      positive      0.948476\n",
       "2   2      positive      0.665432\n",
       "3   3      positive      0.483159\n",
       "4   4      positive      0.982298"
      ]
     },
     "execution_count": 224,
     "metadata": {},
     "output_type": "execute_result"
    }
   ],
   "source": [
    "roberta_result['label'] = labels\n",
    "roberta_result = roberta_result.reset_index().rename(columns={'index':'id','label':'roberta_label', 'score':'roberta_score'})\n",
    "roberta_result.head()"
   ]
  },
  {
   "cell_type": "markdown",
   "metadata": {},
   "source": [
    "#### Roberta EDA"
   ]
  },
  {
   "cell_type": "code",
   "execution_count": 247,
   "metadata": {},
   "outputs": [],
   "source": [
    "roberta_result = roberta_result.merge(df, how='left')"
   ]
  },
  {
   "cell_type": "code",
   "execution_count": 259,
   "metadata": {},
   "outputs": [
    {
     "data": {
      "text/plain": [
       "10.0    432\n",
       "9.0     171\n",
       "8.0      93\n",
       "7.0      52\n",
       "5.0      27\n",
       "1.0      27\n",
       "6.0      26\n",
       "3.0      17\n",
       "2.0      13\n",
       "4.0      12\n",
       "Name: Rating, dtype: int64"
      ]
     },
     "execution_count": 259,
     "metadata": {},
     "output_type": "execute_result"
    }
   ],
   "source": [
    "roberta_result['Rating'].value_counts()"
   ]
  },
  {
   "cell_type": "code",
   "execution_count": 302,
   "metadata": {},
   "outputs": [
    {
     "name": "stdout",
     "output_type": "stream",
     "text": [
      "Positive sentiment reviews percentage 79.84%.\n"
     ]
    }
   ],
   "source": [
    "positive_percent = round(roberta_result['roberta_label'].value_counts()[0]/ len(roberta_result) * 100,2)\n",
    "\n",
    "print(f'Positive sentiment reviews percentage {positive_percent}%.')"
   ]
  },
  {
   "cell_type": "code",
   "execution_count": 290,
   "metadata": {},
   "outputs": [
    {
     "data": {
      "image/png": "[encoded data removed]",
      "text/plain": [
       "<Figure size 1800x600 with 1 Axes>"
      ]
     },
     "metadata": {},
     "output_type": "display_data"
    }
   ],
   "source": [
    "fig,ax= plt.subplots(figsize=(18,6))\n",
    "sns.countplot(data=roberta_result, x='Rating', hue='roberta_label').set(title='Count of Sentiment Label by Rating')\n",
    "plt.tight_layout()\n",
    "plt.show()"
   ]
  },
  {
   "cell_type": "markdown",
   "metadata": {},
   "source": [
    "Roberta have more confident than VADER in labeling the review sentiment. From the vader EDA, the sentiment mostly neutral while in Roberta the review sentiment mostly positive and most them have rating 7 and above. This corresponds to value counts of the rating given by the user."
   ]
  },
  {
   "cell_type": "markdown",
   "metadata": {},
   "source": [
    "### Analyzing Anomaly"
   ]
  },
  {
   "cell_type": "markdown",
   "metadata": {},
   "source": [
    "#### High Rating Negative Label"
   ]
  },
  {
   "cell_type": "code",
   "execution_count": 281,
   "metadata": {},
   "outputs": [
    {
     "data": {
      "text/html": [
       "<div>\n",
       "<style scoped>\n",
       "    .dataframe tbody tr th:only-of-type {\n",
       "        vertical-align: middle;\n",
       "    }\n",
       "\n",
       "    .dataframe tbody tr th {\n",
       "        vertical-align: top;\n",
       "    }\n",
       "\n",
       "    .dataframe thead th {\n",
       "        text-align: right;\n",
       "    }\n",
       "</style>\n",
       "<table border=\"1\" class=\"dataframe\">\n",
       "  <thead>\n",
       "    <tr style=\"text-align: right;\">\n",
       "      <th></th>\n",
       "      <th>index</th>\n",
       "      <th>id</th>\n",
       "      <th>roberta_label</th>\n",
       "      <th>roberta_score</th>\n",
       "      <th>Title</th>\n",
       "      <th>Review</th>\n",
       "      <th>Date</th>\n",
       "      <th>Rating</th>\n",
       "    </tr>\n",
       "  </thead>\n",
       "  <tbody>\n",
       "    <tr>\n",
       "      <th>0</th>\n",
       "      <td>252</td>\n",
       "      <td>252</td>\n",
       "      <td>negative</td>\n",
       "      <td>0.698513</td>\n",
       "      <td>HATERS WILL ALWAYS HATE</td>\n",
       "      <td>HATERS There are many types of haters in this ...</td>\n",
       "      <td>6 September 2023</td>\n",
       "      <td>10.0</td>\n",
       "    </tr>\n",
       "    <tr>\n",
       "      <th>1</th>\n",
       "      <td>356</td>\n",
       "      <td>356</td>\n",
       "      <td>negative</td>\n",
       "      <td>0.527701</td>\n",
       "      <td>Not worth 10 but what a great adaptation !</td>\n",
       "      <td>It's not the best part of one piece. Not even ...</td>\n",
       "      <td>10 September 2023</td>\n",
       "      <td>10.0</td>\n",
       "    </tr>\n",
       "    <tr>\n",
       "      <th>2</th>\n",
       "      <td>504</td>\n",
       "      <td>504</td>\n",
       "      <td>negative</td>\n",
       "      <td>0.963775</td>\n",
       "      <td>Cereo read this</td>\n",
       "      <td>Reading your review annoyed me so much that I ...</td>\n",
       "      <td>1 September 2023</td>\n",
       "      <td>10.0</td>\n",
       "    </tr>\n",
       "    <tr>\n",
       "      <th>3</th>\n",
       "      <td>539</td>\n",
       "      <td>539</td>\n",
       "      <td>negative</td>\n",
       "      <td>0.549573</td>\n",
       "      <td>Girls Can Beat Boys But No Woman Can Beat A Man \"</td>\n",
       "      <td>Omg where do I start I am a fan of manga but n...</td>\n",
       "      <td>4 September 2023</td>\n",
       "      <td>10.0</td>\n",
       "    </tr>\n",
       "    <tr>\n",
       "      <th>4</th>\n",
       "      <td>676</td>\n",
       "      <td>676</td>\n",
       "      <td>negative</td>\n",
       "      <td>0.581564</td>\n",
       "      <td>It is as real as it could be.</td>\n",
       "      <td>Well people need to understand that that real ...</td>\n",
       "      <td>9 September 2023</td>\n",
       "      <td>10.0</td>\n",
       "    </tr>\n",
       "  </tbody>\n",
       "</table>\n",
       "</div>"
      ],
      "text/plain": [
       "   index   id roberta_label roberta_score  \\\n",
       "0    252  252      negative      0.698513   \n",
       "1    356  356      negative      0.527701   \n",
       "2    504  504      negative      0.963775   \n",
       "3    539  539      negative      0.549573   \n",
       "4    676  676      negative      0.581564   \n",
       "\n",
       "                                               Title  \\\n",
       "0                            HATERS WILL ALWAYS HATE   \n",
       "1         Not worth 10 but what a great adaptation !   \n",
       "2                                    Cereo read this   \n",
       "3  Girls Can Beat Boys But No Woman Can Beat A Man \"   \n",
       "4                      It is as real as it could be.   \n",
       "\n",
       "                                              Review               Date  \\\n",
       "0  HATERS There are many types of haters in this ...   6 September 2023   \n",
       "1  It's not the best part of one piece. Not even ...  10 September 2023   \n",
       "2  Reading your review annoyed me so much that I ...   1 September 2023   \n",
       "3  Omg where do I start I am a fan of manga but n...   4 September 2023   \n",
       "4  Well people need to understand that that real ...   9 September 2023   \n",
       "\n",
       "   Rating  \n",
       "0    10.0  \n",
       "1    10.0  \n",
       "2    10.0  \n",
       "3    10.0  \n",
       "4    10.0  "
      ]
     },
     "execution_count": 281,
     "metadata": {},
     "output_type": "execute_result"
    }
   ],
   "source": [
    "highRating_negLabel = roberta_result.loc[(roberta_result.roberta_label == 'negative') & (roberta_result.Rating == 10)].reset_index()\n",
    "highRating_negLabel"
   ]
  },
  {
   "cell_type": "code",
   "execution_count": 284,
   "metadata": {},
   "outputs": [
    {
     "name": "stdout",
     "output_type": "stream",
     "text": [
      "HATERS There are many types of haters in this Live action of ONE Piece\n",
      "\n",
      "number 1 is the OTHER ANIME LOVER the one that loves naruto, demon slayer, Aot, etc. They need to hate or blow some else's candle to make their anime shine and better in their perspective. People hate them because there is something that is much better than them. Come on guys, grow up. As an anime lover that loves One Piece, Naruto, AOT, to demon slayer to any other new anime. You need to clap and see the best in something. Rating a 1 really? Don't make me laugh. It seems you don't know anything about the production, the cinematography is lit, the props and costumes, the CGI, the characters, the effort and the acting. I know there is a lot of room for improvement. You won't get it on your first time. These perfect people who judge and need everything to be perfect.\n",
      "\n",
      "AND FOR THE PEOPLE COMPLAINING ABOUT THE ACTING AND THE CAST. What do you want? An S class actor like Keanu Reeves, Robert Downey Jr., Leonardo? What a stupid mindset. If presume you can't even introduce yourself properly. How much more when acting and saying cringy lines HAHAHA\n",
      "\n",
      "Want a one of one ratio for the animr and live action? I hate to break it up for you but it's never going to happen since this is a fictional story. And the amount of effort that needs to put is massive.\n",
      "\n",
      "HATE ALL YOU WANT but you can't take away the success of this Live Adaptation! One Piece Supremacy!!\n",
      "0.6985134482383728\n"
     ]
    }
   ],
   "source": [
    "print(highRating_negLabel['Review'][0])\n",
    "print(highRating_negLabel['roberta_score'][0])"
   ]
  },
  {
   "cell_type": "markdown",
   "metadata": {},
   "source": [
    "What, I get from the review above. The user use 'hate' alot in his review. The user addressing the hater of the show. Which, made the review have a negative emotional tone. So, roberta correctly guess the sentiment of the review."
   ]
  },
  {
   "cell_type": "code",
   "execution_count": 283,
   "metadata": {},
   "outputs": [
    {
     "name": "stdout",
     "output_type": "stream",
     "text": [
      "It's not the best part of one piece. Not even close. As a real fan for almost 20 years, I loved the adaptation. But let's be honest, it's not worth 10. 8 would be a greater fit. But not because of the adaptation no. Because it's just not the best part of one piece that's all.\n",
      "\n",
      "So 10 because the adaptation is well done but 8 because this part of the manga is good but not great.\n",
      "\n",
      "The 8 episodes cover until episode 45 from the manga. And boy what happen next will be great.\n",
      "\n",
      "My only fear is if each season covers let's say 50 episodes, knowing that there are today more than 1000+, with the assumption of one season a year, it's gonna be 20 years. And who wants luffy played by a middle aged man ?\n",
      "\n",
      "They have 2 options. Either more than one a year, but knowing how long today 2 seasons are apart it seems almost impossible, either cutting a lot... which is possible as sometimes the manga is a little bit slow but I fear that some great moments don't make the cut.\n",
      "\n",
      "So yeah...\n",
      "0.5277014970779419\n"
     ]
    }
   ],
   "source": [
    "print(highRating_negLabel['Review'][1])\n",
    "print(highRating_negLabel['roberta_score'][1])"
   ]
  },
  {
   "cell_type": "markdown",
   "metadata": {},
   "source": [
    "The review above, show the user opinion on early episode of one piece is not the best part of one piece and the user worries for the future of the show. We can see both opinions have negative emotional tone. So, roberta correctly guess the sentiment of the review."
   ]
  },
  {
   "cell_type": "markdown",
   "metadata": {},
   "source": [
    "#### Low Rating Positive Label"
   ]
  },
  {
   "cell_type": "code",
   "execution_count": 278,
   "metadata": {},
   "outputs": [
    {
     "data": {
      "text/html": [
       "<div>\n",
       "<style scoped>\n",
       "    .dataframe tbody tr th:only-of-type {\n",
       "        vertical-align: middle;\n",
       "    }\n",
       "\n",
       "    .dataframe tbody tr th {\n",
       "        vertical-align: top;\n",
       "    }\n",
       "\n",
       "    .dataframe thead th {\n",
       "        text-align: right;\n",
       "    }\n",
       "</style>\n",
       "<table border=\"1\" class=\"dataframe\">\n",
       "  <thead>\n",
       "    <tr style=\"text-align: right;\">\n",
       "      <th></th>\n",
       "      <th>index</th>\n",
       "      <th>id</th>\n",
       "      <th>roberta_label</th>\n",
       "      <th>roberta_score</th>\n",
       "      <th>Title</th>\n",
       "      <th>Review</th>\n",
       "      <th>Date</th>\n",
       "      <th>Rating</th>\n",
       "    </tr>\n",
       "  </thead>\n",
       "  <tbody>\n",
       "    <tr>\n",
       "      <th>0</th>\n",
       "      <td>587</td>\n",
       "      <td>587</td>\n",
       "      <td>positive</td>\n",
       "      <td>0.442317</td>\n",
       "      <td>NO ONE MEANS NO ONE</td>\n",
       "      <td>First of all ,,,I want to say ,,, \" I don't kn...</td>\n",
       "      <td>1 September 2023</td>\n",
       "      <td>1.0</td>\n",
       "    </tr>\n",
       "  </tbody>\n",
       "</table>\n",
       "</div>"
      ],
      "text/plain": [
       "   index   id roberta_label roberta_score                Title  \\\n",
       "0    587  587      positive      0.442317  NO ONE MEANS NO ONE   \n",
       "\n",
       "                                              Review              Date  Rating  \n",
       "0  First of all ,,,I want to say ,,, \" I don't kn...  1 September 2023     1.0  "
      ]
     },
     "execution_count": 278,
     "metadata": {},
     "output_type": "execute_result"
    }
   ],
   "source": [
    "lowRating_posLabel = roberta_result.loc[(roberta_result.roberta_label == 'positive') & (roberta_result.Rating == 1)].reset_index()\n",
    "lowRating_posLabel"
   ]
  },
  {
   "cell_type": "code",
   "execution_count": 277,
   "metadata": {},
   "outputs": [
    {
     "name": "stdout",
     "output_type": "stream",
     "text": [
      "First of all ,,,I want to say ,,, \" I don't know whatever I am going to say is right or wrong but it is only my opinion,,,,may be others opinions are different from mine ,,,so please don't take it on your heart , it is my humble request..\n",
      "\n",
      "One piece is a anime series,,,and it is still continues,,,as per my opinion no one can make or build one piece better than it's original anime version 😊😊 ,,,NO ONE MEANS NO ONE ,,,so please don't try it ,,,,\n",
      "\n",
      "Listen,,,this dublicate one piece season 1 will be liked by those people who doesn't seen its original anime version,,,,, which is most realistic and entertaining series in the world.\n",
      "\n",
      "The original anime version of the one piece series is not only serie it is a one type of emotion which can't be rebuilt or regenerate,,,\n",
      "\n",
      "Ok this is all i want to say ...\n",
      "0.4423171281814575\n"
     ]
    }
   ],
   "source": [
    "print(lowRating_posLabel['Review'][0])\n",
    "print(lowRating_posLabel['roberta_score'][0])"
   ]
  },
  {
   "cell_type": "markdown",
   "metadata": {},
   "source": [
    "The user use smiley emoji in his review. Since roberta can extract sentiment from emoji, it is most likely roberta give this review a positive sentiment because of that. But also, the score is not that big only 0.44."
   ]
  },
  {
   "cell_type": "markdown",
   "metadata": {},
   "source": [
    "## 4.Conclusion"
   ]
  },
  {
   "cell_type": "markdown",
   "metadata": {},
   "source": [
    "* Roberta has a better performance in distinguishing sentiment in reviews than Vader. This can be seen in the EDA of both algorithms, where Vader mostly gives the reviews neutral sentiment while Roberta confidently gives the reviews positive sentiment. \n",
    "\n",
    "* Based on Roberta result, One Pieve Live Action have a positive sentiment among its watcher with 79.84% of the reviews are positive. So, no surprise the show has high rating in IMDB with 8.4 (27/10/2023). [Source](https://www.imdb.com/title/tt11737520/)\n",
    "\n",
    "* Roberta sometime label high rating reviews with negative labels and vice versa. But upon further investigation, roberta indeed correctly guessed the sentiment of the reviews. The user sometime writes a review with an emotional tone that is opposite to the rating scores.\n",
    "\n",
    "* Later on, probably I will try to use Roberta to see a sentiment in social media like X, instagram, or Youtube."
   ]
  }
 ],
 "metadata": {
  "kernelspec": {
   "display_name": "Python 3",
   "language": "python",
   "name": "python3"
  },
  "language_info": {
   "codemirror_mode": {
    "name": "ipython",
    "version": 3
   },
   "file_extension": ".py",
   "mimetype": "text/x-python",
   "name": "python",
   "nbconvert_exporter": "python",
   "pygments_lexer": "ipython3",
   "version": "3.11.1"
  }
 },
 "nbformat": 4,
 "nbformat_minor": 2
}
